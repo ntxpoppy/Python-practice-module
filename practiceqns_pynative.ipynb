{
 "cells": [
  {
   "cell_type": "code",
   "execution_count": null,
   "metadata": {},
   "outputs": [],
   "source": [
    "#https://pynative.com/python-basic-exercise-for-beginners/\n",
    "#Exercise 1\n",
    "#calculate the multiplication and sum of 2 numbers if..\n",
    "number1 = 40\n",
    "number2 = 30 #change numbers accordingly.\n",
    "\n",
    "def sum(number1, number2): #def func\n",
    "    return number1 + number2 #return func\n",
    "\n",
    "def product(number1,number2): \n",
    "    return number1 * number2\n",
    "\n",
    "if product(number1, number2) <= 1000:\n",
    "    print(\"The result is\" , product(number1,number2))\n",
    "else:\n",
    "    print(\"The result is\" , sum(number1,number2))"
   ]
  },
  {
   "cell_type": "code",
   "execution_count": null,
   "metadata": {},
   "outputs": [],
   "source": [
    "#Exercise 2\n",
    "for i in range(10):\n",
    "    current_number = i\n",
    "    previous_number = i-1\n",
    "    sum = current_number+previous_number\n",
    "    print(\"Current number \" , current_number)\n",
    "    print(\" Previous number \" , previous_number)\n",
    "    print (\" Sum: \", sum)"
   ]
  },
  {
   "cell_type": "code",
   "execution_count": null,
   "metadata": {},
   "outputs": [],
   "source": [
    "#Exercise 3\n",
    "x = str(input(\"Word: \"))\n",
    "# iterate a each character of a string\n",
    "# start: 0 to start with first character\n",
    "# stop: size-1 because index starts with 0\n",
    "# step: 2 to get the characters present at even index\n",
    "for i in range(0,len(x) - 1, 2):\n",
    "    print (\"index[\", i ,\"]\", x[i])\n",
    "    "
   ]
  },
  {
   "cell_type": "code",
   "execution_count": null,
   "metadata": {},
   "outputs": [],
   "source": [
    "#Exercise 6:\n",
    "Given_list = [10,20,33,46,55]\n",
    "#divisible by 5\n",
    "print(\"Divisibly by 5: \")\n",
    "for i in Given_list:\n",
    "    if i % 5 == 0:\n",
    "        print(i)"
   ]
  },
  {
   "cell_type": "code",
   "execution_count": null,
   "metadata": {},
   "outputs": [],
   "source": [
    "#Exercise 7\n",
    "str_x = \"Emma is good developer. Emma is a writer\"\n",
    "count = str_x.count(\"Emma\")\n",
    "print(\"Emma appeared \" , count , \" times\")"
   ]
  },
  {
   "cell_type": "code",
   "execution_count": null,
   "metadata": {},
   "outputs": [],
   "source": [
    "#Exercise 8\n",
    "rows = 5\n",
    "for i in range(rows+1): #rows\n",
    "    for j in range(i): #columns\n",
    "        print(i ,end =\" \") #print\n",
    "    print(\"\\n\") #new line"
   ]
  },
  {
   "cell_type": "code",
   "execution_count": null,
   "metadata": {},
   "outputs": [],
   "source": [
    "#Exercise 9\n",
    "def Palindrome(str):\n",
    " \n",
    "    #halving the length and checking\n",
    "    for i in range(0, int(len(str)/2)):\n",
    "        if str[i] != str[len(str)-i-1]:\n",
    "            return False\n",
    "    return True\n",
    " \n",
    "# main function\n",
    "og_number = \"121\"\n",
    "check = Palindrome(og_number)\n",
    " \n",
    "if check == True:\n",
    "    print(\"Yes\")\n",
    "else:\n",
    "    print(\"No\")"
   ]
  },
  {
   "cell_type": "code",
   "execution_count": null,
   "metadata": {},
   "outputs": [],
   "source": [
    "#Exercise 10:\n",
    "list1 = [10, 20, 25, 30, 35]\n",
    "list2 = [40, 45, 60, 75, 90]\n",
    "\n",
    "result_list = []\n",
    "for i in list1:\n",
    "    if i % 2 != 0:\n",
    "        print(i)\n",
    "        result_list.append(i)\n",
    "\n",
    "for i in list2:\n",
    "    if i % 2 == 0:\n",
    "        print(i)\n",
    "        result_list.append(i)\n",
    "\n",
    "print(\"result list: \", result_list)\n",
    "\n"
   ]
  },
  {
   "cell_type": "code",
   "execution_count": null,
   "metadata": {},
   "outputs": [],
   "source": [
    "#exercise13:\n",
    "for i in range(1,10):\n",
    "    for j in range(1,10):\n",
    "        m = i * j\n",
    "        print(i , \" x \", j , \" = \" , m)\n",
    "         "
   ]
  },
  {
   "cell_type": "code",
   "execution_count": null,
   "metadata": {},
   "outputs": [],
   "source": [
    "#exercise 14:\n",
    "rows = 5\n",
    "for i in range(rows+1, 0, -1):#rows\n",
    "    for j in range(0,i - 1):\n",
    "        print(\" * \", end=' ')\n",
    "    print(\"\\n\")"
   ]
  },
  {
   "cell_type": "code",
   "execution_count": null,
   "metadata": {},
   "outputs": [],
   "source": [
    "\n",
    "import math\n",
    "base = 2\n",
    "exponent = 5\n",
    "p = math.pow(base,exponent)\n",
    "print (\"The answer is: \", p)"
   ]
  }
 ],
 "metadata": {
  "interpreter": {
   "hash": "aee8b7b246df8f9039afb4144a1f6fd8d2ca17a180786b69acc140d282b71a49"
  },
  "kernelspec": {
   "display_name": "Python 3.7.7 64-bit",
   "language": "python",
   "name": "python3"
  },
  "language_info": {
   "codemirror_mode": {
    "name": "ipython",
    "version": 3
   },
   "file_extension": ".py",
   "mimetype": "text/x-python",
   "name": "python",
   "nbconvert_exporter": "python",
   "pygments_lexer": "ipython3",
   "version": "3.7.7"
  },
  "orig_nbformat": 4
 },
 "nbformat": 4,
 "nbformat_minor": 2
}
